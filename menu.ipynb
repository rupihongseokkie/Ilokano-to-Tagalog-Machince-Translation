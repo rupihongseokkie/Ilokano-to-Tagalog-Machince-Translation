{
 "cells": [
  {
   "cell_type": "code",
   "execution_count": 1,
   "metadata": {},
   "outputs": [
    {
     "name": "stdout",
     "output_type": "stream",
     "text": [
      "1. Model Taining\n",
      "2. Model Testing\n",
      "3. Translate a Tagalog Document to Ilokano\n",
      "4. Translate an Ilokano Document to Tagalog\n",
      "5. Exit\n"
     ]
    }
   ],
   "source": [
    "print(\"1. Model Taining\\n\" +\n",
    "    \"2. Model Testing\\n\" +\n",
    "    \"3. Translate a Tagalog Document to Ilokano\\n\" +\n",
    "    \"4. Translate an Ilokano Document to Tagalog\\n\" +\n",
    "    \"5. Exit\")\n",
    "    \n",
    "              "
   ]
  },
  {
   "cell_type": "code",
   "execution_count": 4,
   "metadata": {},
   "outputs": [],
   "source": [
    "intAns= input(\"What would you like to do? \") \n",
    "if intAns==\"1\": \n",
    "    print(\"\\n Model Taining picked\") \n",
    "elif intAns==\"2\":\n",
    "    print(\"\\n Model Testing picked\") \n",
    "elif intAns==\"3\":\n",
    "    print(\"\\n Translate a Tagalog Document to Ilokano picked\") \n",
    "elif intAns==\"4\":\n",
    "    print(\"\\n Translate an Ilokano Document to Tagalog picked\") \n",
    "elif intAns==\"5\":\n",
    "    print(\"\\n Goodbye!\")\n",
    "elif intAns !=\"\":\n",
    "    print(\"\\n Not Valid Choice Try again\") "
   ]
  },
  {
   "cell_type": "code",
   "execution_count": null,
   "metadata": {},
   "outputs": [],
   "source": []
  }
 ],
 "metadata": {
  "kernelspec": {
   "display_name": "Python 3.10.1 64-bit",
   "language": "python",
   "name": "python3"
  },
  "language_info": {
   "codemirror_mode": {
    "name": "ipython",
    "version": 3
   },
   "file_extension": ".py",
   "mimetype": "text/x-python",
   "name": "python",
   "nbconvert_exporter": "python",
   "pygments_lexer": "ipython3",
   "version": "3.10.1"
  },
  "orig_nbformat": 4,
  "vscode": {
   "interpreter": {
    "hash": "fd5e40cb983109c15fc1053f6f3e661cc97e68e07c1758cdbd2441c60186ce19"
   }
  }
 },
 "nbformat": 4,
 "nbformat_minor": 2
}
